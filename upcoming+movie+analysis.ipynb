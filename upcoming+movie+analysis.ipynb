{
 "cells": [
  {
   "cell_type": "code",
   "execution_count": 1,
   "metadata": {
    "collapsed": true
   },
   "outputs": [],
   "source": [
    "import numpy as np # linear algebra\n",
    "import pandas as pd"
   ]
  },
  {
   "cell_type": "code",
   "execution_count": 2,
   "metadata": {
    "collapsed": true
   },
   "outputs": [],
   "source": [
    "import os\n",
    "for dirname, _, filenames in os.walk('/kaggle/input'):\n",
    "    for filename in filenames:\n",
    "        print(os.path.join(dirname, filename))"
   ]
  },
  {
   "cell_type": "code",
   "execution_count": 4,
   "metadata": {},
   "outputs": [],
   "source": [
    "df = pd.read_csv('movie_success_rate.csv')"
   ]
  },
  {
   "cell_type": "code",
   "execution_count": 5,
   "metadata": {},
   "outputs": [
    {
     "data": {
      "text/plain": [
       "(839, 33)"
      ]
     },
     "execution_count": 5,
     "metadata": {},
     "output_type": "execute_result"
    }
   ],
   "source": [
    "df.shape"
   ]
  },
  {
   "cell_type": "code",
   "execution_count": 6,
   "metadata": {},
   "outputs": [
    {
     "data": {
      "text/html": [
       "<div>\n",
       "<style>\n",
       "    .dataframe thead tr:only-child th {\n",
       "        text-align: right;\n",
       "    }\n",
       "\n",
       "    .dataframe thead th {\n",
       "        text-align: left;\n",
       "    }\n",
       "\n",
       "    .dataframe tbody tr th {\n",
       "        vertical-align: top;\n",
       "    }\n",
       "</style>\n",
       "<table border=\"1\" class=\"dataframe\">\n",
       "  <thead>\n",
       "    <tr style=\"text-align: right;\">\n",
       "      <th></th>\n",
       "      <th>Rank</th>\n",
       "      <th>Title</th>\n",
       "      <th>Genre</th>\n",
       "      <th>Description</th>\n",
       "      <th>Director</th>\n",
       "      <th>Actors</th>\n",
       "      <th>Year</th>\n",
       "      <th>Runtime (Minutes)</th>\n",
       "      <th>Rating</th>\n",
       "      <th>Votes</th>\n",
       "      <th>...</th>\n",
       "      <th>Music</th>\n",
       "      <th>Musical</th>\n",
       "      <th>Mystery</th>\n",
       "      <th>Romance</th>\n",
       "      <th>Sci-Fi</th>\n",
       "      <th>Sport</th>\n",
       "      <th>Thriller</th>\n",
       "      <th>War</th>\n",
       "      <th>Western</th>\n",
       "      <th>Success</th>\n",
       "    </tr>\n",
       "  </thead>\n",
       "  <tbody>\n",
       "    <tr>\n",
       "      <th>0</th>\n",
       "      <td>1.0</td>\n",
       "      <td>Guardians of the Galaxy</td>\n",
       "      <td>Action,Adventure,Sci-Fi</td>\n",
       "      <td>A group of intergalactic criminals are forced ...</td>\n",
       "      <td>James Gunn</td>\n",
       "      <td>Chris Pratt, Vin Diesel, Bradley Cooper, Zoe S...</td>\n",
       "      <td>2014.0</td>\n",
       "      <td>121.0</td>\n",
       "      <td>8.1</td>\n",
       "      <td>757074.0</td>\n",
       "      <td>...</td>\n",
       "      <td>0.0</td>\n",
       "      <td>0.0</td>\n",
       "      <td>0.0</td>\n",
       "      <td>0.0</td>\n",
       "      <td>1.0</td>\n",
       "      <td>0.0</td>\n",
       "      <td>0.0</td>\n",
       "      <td>0.0</td>\n",
       "      <td>0.0</td>\n",
       "      <td>1.0</td>\n",
       "    </tr>\n",
       "    <tr>\n",
       "      <th>1</th>\n",
       "      <td>2.0</td>\n",
       "      <td>Prometheus</td>\n",
       "      <td>Adventure,Mystery,Sci-Fi</td>\n",
       "      <td>Following clues to the origin of mankind, a te...</td>\n",
       "      <td>Ridley Scott</td>\n",
       "      <td>Noomi Rapace, Logan Marshall-Green, Michael Fa...</td>\n",
       "      <td>2012.0</td>\n",
       "      <td>124.0</td>\n",
       "      <td>7.0</td>\n",
       "      <td>485820.0</td>\n",
       "      <td>...</td>\n",
       "      <td>0.0</td>\n",
       "      <td>0.0</td>\n",
       "      <td>1.0</td>\n",
       "      <td>0.0</td>\n",
       "      <td>1.0</td>\n",
       "      <td>0.0</td>\n",
       "      <td>0.0</td>\n",
       "      <td>0.0</td>\n",
       "      <td>0.0</td>\n",
       "      <td>1.0</td>\n",
       "    </tr>\n",
       "    <tr>\n",
       "      <th>2</th>\n",
       "      <td>3.0</td>\n",
       "      <td>Split</td>\n",
       "      <td>Horror,Thriller</td>\n",
       "      <td>Three girls are kidnapped by a man with a diag...</td>\n",
       "      <td>M. Night Shyamalan</td>\n",
       "      <td>James McAvoy, Anya Taylor-Joy, Haley Lu Richar...</td>\n",
       "      <td>2016.0</td>\n",
       "      <td>117.0</td>\n",
       "      <td>7.3</td>\n",
       "      <td>157606.0</td>\n",
       "      <td>...</td>\n",
       "      <td>0.0</td>\n",
       "      <td>0.0</td>\n",
       "      <td>0.0</td>\n",
       "      <td>0.0</td>\n",
       "      <td>0.0</td>\n",
       "      <td>0.0</td>\n",
       "      <td>1.0</td>\n",
       "      <td>0.0</td>\n",
       "      <td>0.0</td>\n",
       "      <td>0.0</td>\n",
       "    </tr>\n",
       "    <tr>\n",
       "      <th>3</th>\n",
       "      <td>4.0</td>\n",
       "      <td>Sing</td>\n",
       "      <td>Animation,Comedy,Family</td>\n",
       "      <td>In a city of humanoid animals, a hustling thea...</td>\n",
       "      <td>Christophe Lourdelet</td>\n",
       "      <td>Matthew McConaughey,Reese Witherspoon, Seth Ma...</td>\n",
       "      <td>2016.0</td>\n",
       "      <td>108.0</td>\n",
       "      <td>7.2</td>\n",
       "      <td>60545.0</td>\n",
       "      <td>...</td>\n",
       "      <td>0.0</td>\n",
       "      <td>0.0</td>\n",
       "      <td>0.0</td>\n",
       "      <td>0.0</td>\n",
       "      <td>0.0</td>\n",
       "      <td>0.0</td>\n",
       "      <td>0.0</td>\n",
       "      <td>0.0</td>\n",
       "      <td>0.0</td>\n",
       "      <td>0.0</td>\n",
       "    </tr>\n",
       "    <tr>\n",
       "      <th>4</th>\n",
       "      <td>5.0</td>\n",
       "      <td>Suicide Squad</td>\n",
       "      <td>Action,Adventure,Fantasy</td>\n",
       "      <td>A secret government agency recruits some of th...</td>\n",
       "      <td>David Ayer</td>\n",
       "      <td>Will Smith, Jared Leto, Margot Robbie, Viola D...</td>\n",
       "      <td>2016.0</td>\n",
       "      <td>123.0</td>\n",
       "      <td>6.2</td>\n",
       "      <td>393727.0</td>\n",
       "      <td>...</td>\n",
       "      <td>0.0</td>\n",
       "      <td>0.0</td>\n",
       "      <td>0.0</td>\n",
       "      <td>0.0</td>\n",
       "      <td>0.0</td>\n",
       "      <td>0.0</td>\n",
       "      <td>0.0</td>\n",
       "      <td>0.0</td>\n",
       "      <td>0.0</td>\n",
       "      <td>0.0</td>\n",
       "    </tr>\n",
       "  </tbody>\n",
       "</table>\n",
       "<p>5 rows × 33 columns</p>\n",
       "</div>"
      ],
      "text/plain": [
       "   Rank                    Title                     Genre  \\\n",
       "0   1.0  Guardians of the Galaxy   Action,Adventure,Sci-Fi   \n",
       "1   2.0               Prometheus  Adventure,Mystery,Sci-Fi   \n",
       "2   3.0                    Split           Horror,Thriller   \n",
       "3   4.0                     Sing   Animation,Comedy,Family   \n",
       "4   5.0            Suicide Squad  Action,Adventure,Fantasy   \n",
       "\n",
       "                                         Description              Director  \\\n",
       "0  A group of intergalactic criminals are forced ...            James Gunn   \n",
       "1  Following clues to the origin of mankind, a te...          Ridley Scott   \n",
       "2  Three girls are kidnapped by a man with a diag...    M. Night Shyamalan   \n",
       "3  In a city of humanoid animals, a hustling thea...  Christophe Lourdelet   \n",
       "4  A secret government agency recruits some of th...            David Ayer   \n",
       "\n",
       "                                              Actors    Year  \\\n",
       "0  Chris Pratt, Vin Diesel, Bradley Cooper, Zoe S...  2014.0   \n",
       "1  Noomi Rapace, Logan Marshall-Green, Michael Fa...  2012.0   \n",
       "2  James McAvoy, Anya Taylor-Joy, Haley Lu Richar...  2016.0   \n",
       "3  Matthew McConaughey,Reese Witherspoon, Seth Ma...  2016.0   \n",
       "4  Will Smith, Jared Leto, Margot Robbie, Viola D...  2016.0   \n",
       "\n",
       "   Runtime (Minutes)  Rating     Votes   ...     Music  Musical  Mystery  \\\n",
       "0              121.0     8.1  757074.0   ...       0.0      0.0      0.0   \n",
       "1              124.0     7.0  485820.0   ...       0.0      0.0      1.0   \n",
       "2              117.0     7.3  157606.0   ...       0.0      0.0      0.0   \n",
       "3              108.0     7.2   60545.0   ...       0.0      0.0      0.0   \n",
       "4              123.0     6.2  393727.0   ...       0.0      0.0      0.0   \n",
       "\n",
       "   Romance  Sci-Fi  Sport  Thriller  War  Western  Success  \n",
       "0      0.0     1.0    0.0       0.0  0.0      0.0      1.0  \n",
       "1      0.0     1.0    0.0       0.0  0.0      0.0      1.0  \n",
       "2      0.0     0.0    0.0       1.0  0.0      0.0      0.0  \n",
       "3      0.0     0.0    0.0       0.0  0.0      0.0      0.0  \n",
       "4      0.0     0.0    0.0       0.0  0.0      0.0      0.0  \n",
       "\n",
       "[5 rows x 33 columns]"
      ]
     },
     "execution_count": 6,
     "metadata": {},
     "output_type": "execute_result"
    }
   ],
   "source": [
    "df.head()"
   ]
  },
  {
   "cell_type": "code",
   "execution_count": 7,
   "metadata": {},
   "outputs": [
    {
     "data": {
      "text/plain": [
       "Index(['Rank', 'Title', 'Genre', 'Description', 'Director', 'Actors', 'Year',\n",
       "       'Runtime (Minutes)', 'Rating', 'Votes', 'Revenue (Millions)',\n",
       "       'Metascore', 'Action', 'Adventure', 'Aniimation', 'Biography', 'Comedy',\n",
       "       'Crime', 'Drama', 'Family', 'Fantasy', 'History', 'Horror', 'Music',\n",
       "       'Musical', 'Mystery', 'Romance', 'Sci-Fi', 'Sport', 'Thriller', 'War',\n",
       "       'Western', 'Success'],\n",
       "      dtype='object')"
      ]
     },
     "execution_count": 7,
     "metadata": {},
     "output_type": "execute_result"
    }
   ],
   "source": [
    "df.columns"
   ]
  },
  {
   "cell_type": "code",
   "execution_count": 8,
   "metadata": {},
   "outputs": [
    {
     "data": {
      "text/plain": [
       "Action,Adventure,Sci-Fi       50\n",
       "Comedy,Drama,Romance          30\n",
       "Drama                         29\n",
       "Drama,Romance                 27\n",
       "Animation,Adventure,Comedy    26\n",
       "Comedy                        26\n",
       "Action,Adventure,Fantasy      25\n",
       "Comedy,Drama                  24\n",
       "Comedy,Romance                22\n",
       "Crime,Drama,Mystery           18\n",
       "Crime,Drama,Thriller          18\n",
       "Action,Adventure,Drama        17\n",
       "Action,Crime,Drama            16\n",
       "Adventure,Family,Fantasy      14\n",
       "Action,Adventure,Comedy       14\n",
       "Drama,Thriller                12\n",
       "Biography,Drama,History       12\n",
       "Action,Comedy,Crime           12\n",
       "Action,Crime,Thriller         11\n",
       "Action,Adventure,Thriller     11\n",
       "Horror,Thriller               11\n",
       "Biography,Drama               11\n",
       "Animation,Action,Adventure     8\n",
       "Biography,Crime,Drama          8\n",
       "Adventure,Comedy,Drama         8\n",
       "Crime,Drama                    8\n",
       "Action,Thriller                8\n",
       "Biography,Drama,Sport          7\n",
       "Horror                         7\n",
       "Horror,Mystery,Thriller        7\n",
       "                              ..\n",
       "Crime,Mystery,Thriller         1\n",
       "Action,Horror,Romance          1\n",
       "Action,Crime,Fantasy           1\n",
       "Animation,Action,Comedy        1\n",
       "Comedy,Fantasy,Romance         1\n",
       "Comedy,Drama,Thriller          1\n",
       "Action,Comedy,Family           1\n",
       "Drama,Musical,Romance          1\n",
       "Crime,Thriller                 1\n",
       "Crime,Drama,Music              1\n",
       "Adventure,Drama,Western        1\n",
       "Adventure,Horror               1\n",
       "Animation,Fantasy              1\n",
       "Adventure,Fantasy,Mystery      1\n",
       "Action,Adventure,Western       1\n",
       "Drama,Fantasy,War              1\n",
       "Adventure,Drama,History        1\n",
       "Comedy,Family,Romance          1\n",
       "Adventure,Comedy,Fantasy       1\n",
       "Drama,History                  1\n",
       "Drama,Family,Fantasy           1\n",
       "Biography,Comedy,Crime         1\n",
       "Sci-Fi                         1\n",
       "Adventure,Drama,Horror         1\n",
       "Action,Comedy,Drama            1\n",
       "Action,Drama,Horror            1\n",
       "Animation,Family,Fantasy       1\n",
       "Action,Drama,Mystery           1\n",
       "Drama,History,War              1\n",
       "Comedy,Crime,Thriller          1\n",
       "Name: Genre, Length: 189, dtype: int64"
      ]
     },
     "execution_count": 8,
     "metadata": {},
     "output_type": "execute_result"
    }
   ],
   "source": [
    "df[\"Genre\"].value_counts()"
   ]
  },
  {
   "cell_type": "code",
   "execution_count": 11,
   "metadata": {},
   "outputs": [
    {
     "data": {
      "text/plain": [
       "Ridley Scott            8\n",
       "Paul W.S. Anderson      6\n",
       "David Yates             6\n",
       "Michael Bay             6\n",
       "Christopher Nolan       5\n",
       "Zack Snyder             5\n",
       "Martin Scorsese         5\n",
       "Antoine Fuqua           5\n",
       "J.J. Abrams             5\n",
       "Justin Lin              5\n",
       "David Fincher           5\n",
       "M. Night Shyamalan      5\n",
       "Woody Allen             5\n",
       "Peter Berg              5\n",
       "Danny Boyle             5\n",
       "Denis Villeneuve        5\n",
       "Dennis Dugan            4\n",
       "Ron Howard              4\n",
       "Jon Favreau             4\n",
       "Steven Spielberg        4\n",
       "Guy Ritchie             4\n",
       "Louis Leterrier         4\n",
       "Lars von Trier          4\n",
       "Nicholas Stoller        4\n",
       "Adam McKay              4\n",
       "Matthew Vaughn          4\n",
       "Guillermo del Toro      4\n",
       "Paul Feig               4\n",
       "Peter Jackson           4\n",
       "David O. Russell        4\n",
       "                       ..\n",
       "Sergei Bodrov           1\n",
       "Miguel Arteta           1\n",
       "Sharon Maguire          1\n",
       "Josh Trank              1\n",
       "Joseph Gordon-Levitt    1\n",
       "Ben Younger             1\n",
       "Mira Nair               1\n",
       "Joseph Cedar            1\n",
       "Tomas Alfredson         1\n",
       "Olivier Megaton         1\n",
       "Anne Fontaine           1\n",
       "James Wong              1\n",
       "Michael Dudok de Wit    1\n",
       "Steven Quale            1\n",
       "Chris Buck              1\n",
       "Tom Six                 1\n",
       "Makoto Shinkai          1\n",
       "Nimród Antal            1\n",
       "Dan Mazer               1\n",
       "Chris Evans             1\n",
       "Alfonso Gomez-Rejon     1\n",
       "Jake Kasdan             1\n",
       "Werner Herzog           1\n",
       "Asger Leth              1\n",
       "Dave Green              1\n",
       "Juan José Campanella    1\n",
       "Spike Lee               1\n",
       "Larry Charles           1\n",
       "Mark Mylod              1\n",
       "Paolo Sorrentino        1\n",
       "Name: Director, Length: 524, dtype: int64"
      ]
     },
     "execution_count": 11,
     "metadata": {},
     "output_type": "execute_result"
    }
   ],
   "source": [
    "df['Director'].value_counts()"
   ]
  },
  {
   "cell_type": "code",
   "execution_count": 12,
   "metadata": {},
   "outputs": [
    {
     "data": {
      "text/plain": [
       "Jennifer Lawrence, Josh Hutcherson, Liam Hemsworth, Woody Harrelson              2\n",
       "Shia LaBeouf, Megan Fox, Josh Duhamel, Tyrese Gibson                             2\n",
       "Gerard Butler, Aaron Eckhart, Morgan Freeman,Angela Bassett                      2\n",
       "Daniel Radcliffe, Emma Watson, Rupert Grint, Michael Gambon                      2\n",
       "Mia Wasikowska, Johnny Depp, Helena Bonham Carter,Anne Hathaway                  1\n",
       "Cate Blanchett, Alec Baldwin, Peter Sarsgaard, Sally Hawkins                     1\n",
       "Robert De Niro, Michelle Pfeiffer, Dianna Agron, John D'Leo                      1\n",
       "Channing Tatum, Jonah Hill, Ice Cube,Nick Offerman                               1\n",
       "Morgan Saylor, Brian Marc, Justin Bartha, Adrian Martinez                        1\n",
       "Arnold Schwarzenegger, Jason Clarke, Emilia Clarke,Jai Courtney                  1\n",
       "Joseph Gordon-Levitt, Seth Rogen, Anna Kendrick, Bryce Dallas Howard             1\n",
       "Elisabeth Shue, Jerry O'Connell, Richard Dreyfuss,Ving Rhames                    1\n",
       "Kirsten Dunst, Jason Schwartzman, Rip Torn, Judy Davis                           1\n",
       "Jake Gyllenhaal, Naomi Watts, Chris Cooper,Judah Lewis                           1\n",
       "Edgar Ramírez, Luke Bracey, Ray Winstone, Teresa Palmer                          1\n",
       "Kristen Bell, Jason Segel, Paul Rudd, Mila Kunis                                 1\n",
       "Garrett Clayton, Christian Slater, Molly Ringwald,James Kelley                   1\n",
       "Chris Hemsworth, Cillian Murphy, Brendan Gleeson,Ben Whishaw                     1\n",
       "Jessica Chastain, Mark Strong, Gugu Mbatha-Raw,Michael Stuhlbarg                 1\n",
       "Jamie Foxx, Christoph Waltz, Leonardo DiCaprio,Kerry Washington                  1\n",
       "Connor Paolo, Nick Damici, Kelly McGillis, Gregory Jones                         1\n",
       "Lauren German, Heather Matarazzo, Bijou Phillips, Roger Bart                     1\n",
       "Ryûnosuke Kamiki, Mone Kamishiraishi, Ryô Narita, Aoi Yuki                       1\n",
       "Brad Pitt, Casey Affleck, Sam Shepard, Mary-Louise Parker                        1\n",
       "John Cusack, Thandie Newton, Chiwetel Ejiofor,Amanda Peet                        1\n",
       "Logan Marshall-Green, Emayatzy Corinealdi, Michiel Huisman, Tammy Blanchard      1\n",
       "Jack O'Connell, Miyavi, Domhnall Gleeson, Garrett Hedlund                        1\n",
       "Jared Padalecki, Amanda Righetti, Derek Mears,Danielle Panabaker                 1\n",
       "Aamir Khan, Madhavan, Mona Singh, Sharman Joshi                                  1\n",
       "Julianne Hough, Diego Boneta, Tom Cruise, Alec Baldwin                           1\n",
       "                                                                                ..\n",
       "David Oyelowo, Rosamund Pike, Tom Felton, Jack Davenport                         1\n",
       "Ralph Fiennes, F. Murray Abraham, Mathieu Amalric,Adrien Brody                   1\n",
       "Woody Allen, Penélope Cruz, Jesse Eisenberg, Ellen Page                          1\n",
       "Jennifer Lopez, Ryan Guzman, Kristin Chenoweth, John Corbett                     1\n",
       "Colin Firth, Taron Egerton, Samuel L. Jackson,Michael Caine                      1\n",
       "Gemma Arterton, Sam Claflin, Bill Nighy, Jack Huston                             1\n",
       "Brad Pitt, Cate Blanchett, Tilda Swinton, Julia Ormond                           1\n",
       "Saoirse Ronan, Cate Blanchett, Eric Bana, Vicky Krieps                           1\n",
       "Christos Stergioglou, Michele Valley, Angeliki Papoulia, Hristos Passalis        1\n",
       "Chris Pine, Casey Affleck, Ben Foster, Eric Bana                                 1\n",
       "Milla Jovovich, Sienna Guillory, Michelle Rodriguez, Aryana Engineer             1\n",
       "Russell Crowe, Cate Blanchett, Matthew Macfadyen,Max von Sydow                   1\n",
       "Bruce Willis, Justin Long, Timothy Olyphant, Maggie Q                            1\n",
       "Naomi Watts, Viggo Mortensen, Armin Mueller-Stahl, Josef Altin                   1\n",
       "Chadwick Boseman, T.R. Knight, Harrison Ford,Nicole Beharie                      1\n",
       "Aaron Taylor-Johnson, Chloë Grace Moretz,Christopher Mintz-Plasse, Jim Carrey    1\n",
       "Naomi Watts, Robin Wright, Xavier Samuel, James Frecheville                      1\n",
       "Mark Wahlberg, Mila Kunis, Seth MacFarlane, Joel McHale                          1\n",
       "Channing Tatum, Jamie Foxx, Maggie Gyllenhaal,Jason Clarke                       1\n",
       "Zooey Deschanel, Joseph Gordon-Levitt, Geoffrey Arend, Chloë Grace Moretz        1\n",
       "Felicity Jones, Diego Luna, Alan Tudyk, Donnie Yen                               1\n",
       "Leonardo DiCaprio, Tom Hardy, Will Poulter, Domhnall Gleeson                     1\n",
       "Luke Wilson, Maya Rudolph, Dax Shepard, Terry Crews                              1\n",
       "Julianne Moore, Clive Owen, Chiwetel Ejiofor,Michael Caine                       1\n",
       "Tom Hanks, Halle Berry, Hugh Grant, Hugo Weaving                                 1\n",
       "Neve Campbell, Courteney Cox, David Arquette, Lucy Hale                          1\n",
       "Jesse Eisenberg, Anne Hathaway, George Lopez,Karen Disher                        1\n",
       "Gerard Butler, Lena Headey, David Wenham, Dominic West                           1\n",
       "Jason Sudeikis, Alison Brie, Jordan Carlos,Margarita Levieva                     1\n",
       "Stuart Graham, Laine Megaw, Brian Milligan, Liam McMahon                         1\n",
       "Name: Actors, Length: 834, dtype: int64"
      ]
     },
     "execution_count": 12,
     "metadata": {},
     "output_type": "execute_result"
    }
   ],
   "source": [
    "df[\"Actors\"].value_counts()"
   ]
  },
  {
   "cell_type": "code",
   "execution_count": 15,
   "metadata": {},
   "outputs": [
    {
     "data": {
      "text/plain": [
       "<matplotlib.axes._subplots.AxesSubplot at 0x155662eeef0>"
      ]
     },
     "execution_count": 15,
     "metadata": {},
     "output_type": "execute_result"
    }
   ],
   "source": [
    "import seaborn as sns\n",
    "sns.heatmap(df.isnull())"
   ]
  },
  {
   "cell_type": "code",
   "execution_count": 16,
   "metadata": {
    "collapsed": true
   },
   "outputs": [],
   "source": [
    "df=df.fillna(df.median())"
   ]
  },
  {
   "cell_type": "code",
   "execution_count": 17,
   "metadata": {},
   "outputs": [
    {
     "data": {
      "text/plain": [
       "Index(['Rank', 'Title', 'Genre', 'Description', 'Director', 'Actors', 'Year',\n",
       "       'Runtime (Minutes)', 'Rating', 'Votes', 'Revenue (Millions)',\n",
       "       'Metascore', 'Action', 'Adventure', 'Aniimation', 'Biography', 'Comedy',\n",
       "       'Crime', 'Drama', 'Family', 'Fantasy', 'History', 'Horror', 'Music',\n",
       "       'Musical', 'Mystery', 'Romance', 'Sci-Fi', 'Sport', 'Thriller', 'War',\n",
       "       'Western', 'Success'],\n",
       "      dtype='object')"
      ]
     },
     "execution_count": 17,
     "metadata": {},
     "output_type": "execute_result"
    }
   ],
   "source": [
    "df.columns"
   ]
  },
  {
   "cell_type": "code",
   "execution_count": 18,
   "metadata": {
    "collapsed": true
   },
   "outputs": [],
   "source": [
    "x = df[['Year',\n",
    "       'Runtime (Minutes)', 'Rating', 'Votes', 'Revenue (Millions)',\n",
    "       'Metascore', 'Action', 'Adventure', 'Aniimation', 'Biography', 'Comedy',\n",
    "       'Crime', 'Drama', 'Family', 'Fantasy', 'History', 'Horror', 'Music',\n",
    "       'Musical', 'Mystery', 'Romance', 'Sci-Fi', 'Sport', 'Thriller', 'War',\n",
    "       'Western']]\n",
    "y = df['Success']"
   ]
  },
  {
   "cell_type": "code",
   "execution_count": 19,
   "metadata": {
    "collapsed": true
   },
   "outputs": [],
   "source": [
    "from sklearn.model_selection import train_test_split\n",
    "x_train,x_test,y_train,y_test= train_test_split(x,y,test_size=0.1,stratify=y)"
   ]
  },
  {
   "cell_type": "code",
   "execution_count": 20,
   "metadata": {},
   "outputs": [
    {
     "data": {
      "text/plain": [
       "LogisticRegression(C=1.0, class_weight=None, dual=False, fit_intercept=True,\n",
       "          intercept_scaling=1, max_iter=100, multi_class='ovr', n_jobs=1,\n",
       "          penalty='l2', random_state=None, solver='liblinear', tol=0.0001,\n",
       "          verbose=0, warm_start=False)"
      ]
     },
     "execution_count": 20,
     "metadata": {},
     "output_type": "execute_result"
    }
   ],
   "source": [
    "from sklearn.linear_model import LogisticRegression\n",
    "log = LogisticRegression()\n",
    "log.fit(x_train,y_train)"
   ]
  },
  {
   "cell_type": "code",
   "execution_count": 21,
   "metadata": {},
   "outputs": [
    {
     "data": {
      "text/plain": [
       "0.9285714285714286"
      ]
     },
     "execution_count": 21,
     "metadata": {},
     "output_type": "execute_result"
    }
   ],
   "source": [
    "log.score(x_test,y_test)"
   ]
  },
  {
   "cell_type": "code",
   "execution_count": 22,
   "metadata": {
    "collapsed": true
   },
   "outputs": [],
   "source": [
    "from sklearn.metrics import confusion_matrix\n",
    "clf = confusion_matrix(y_test,log.predict(x_test))"
   ]
  },
  {
   "cell_type": "code",
   "execution_count": 23,
   "metadata": {},
   "outputs": [
    {
     "data": {
      "text/plain": [
       "<matplotlib.axes._subplots.AxesSubplot at 0x155662eeef0>"
      ]
     },
     "execution_count": 23,
     "metadata": {},
     "output_type": "execute_result"
    }
   ],
   "source": [
    "sns.heatmap(clf,annot=True)"
   ]
  },
  {
   "cell_type": "code",
   "execution_count": 24,
   "metadata": {
    "collapsed": true
   },
   "outputs": [],
   "source": [
    "x_train_opt = x_train.copy()\n",
    "x_test_opt = x_test.copy()"
   ]
  },
  {
   "cell_type": "code",
   "execution_count": null,
   "metadata": {
    "collapsed": true
   },
   "outputs": [],
   "source": []
  }
 ],
 "metadata": {
  "kernelspec": {
   "display_name": "Python 3",
   "language": "python",
   "name": "python3"
  },
  "language_info": {
   "codemirror_mode": {
    "name": "ipython",
    "version": 3
   },
   "file_extension": ".py",
   "mimetype": "text/x-python",
   "name": "python",
   "nbconvert_exporter": "python",
   "pygments_lexer": "ipython3",
   "version": "3.6.3"
  }
 },
 "nbformat": 4,
 "nbformat_minor": 2
}
